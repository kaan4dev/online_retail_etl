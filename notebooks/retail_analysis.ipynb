{
  "cells": [
    {
      "cell_type": "markdown",
      "metadata": {},
      "source": [
        "# Online Retail Sales Analysis\n",
        "\n",
        "End-to-end exploratory analysis for the transformed Online Retail II dataset. Run the ETL scripts (`src/elt.py`, `src/load.py`, `src/transform.py`) before executing this notebook to ensure `data/retail.sqlite` is populated.\n"
      ]
    },
    {
      "cell_type": "markdown",
      "metadata": {},
      "source": [
        "## Notebook Roadmap\n",
        "- [Setup](#Setup)\n",
        "- [Data Snapshot](#Data-Snapshot)\n",
        "- [Monthly Revenue Trend](#Monthly-Revenue-Trend)\n",
        "- [Top Products](#Top-Products)\n",
        "- [Top Customers](#Top-Customers)\n",
        "- [Revenue by Region & Country](#Revenue-by-Region-\\&-Country)\n",
        "- [Invoice Basket Analysis](#Invoice-Basket-Analysis)\n",
        "- [Customer Breadth & Repeat Behaviour](#Customer-Breadth-\\&-Repeat-Behaviour)\n",
        "- [Seasonal & Product Insights](#Seasonal-\\&-Product-Insights)\n",
        "- [Cleanup](#Cleanup)\n"
      ]
    },
    {
      "cell_type": "markdown",
      "metadata": {},
      "source": [
        "## Setup\n",
        "Import libraries, connect to SQLite, and define a helper for executing SQL queries.\n"
      ]
    },
    {
      "cell_type": "code",
      "execution_count": null,
      "metadata": {},
      "outputs": [],
      "source": [
        "from pathlib import Path\n",
        "import sqlite3\n",
        "import pandas as pd\n",
        "import numpy as np\n",
        "import matplotlib.pyplot as plt\n",
        "import seaborn as sns\n",
        "from IPython.display import display\n",
        "\n",
        "plt.style.use('seaborn-v0_8')\n",
        "\n",
        "PROJECT_ROOT = Path().resolve().parent\n",
        "DB_PATH = PROJECT_ROOT / 'data' / 'retail.sqlite'\n",
        "\n",
        "if not DB_PATH.exists():\n",
        "    raise FileNotFoundError(f'Database not found at {DB_PATH}. Run the ETL pipeline before executing the notebook.')\n",
        "\n",
        "conn = sqlite3.connect(DB_PATH)\n",
        "\n",
        "pd.set_option('display.float_format', lambda value: f\"{value:,.2f}\")\n",
        "\n",
        "def run_sql(query: str, params=None) -> pd.DataFrame:\n",
        "    \"\"\"Execute a SQL query against the warehouse and return a DataFrame.\"\"\"\n",
        "    print(query.strip())\n",
        "    return pd.read_sql_query(query, conn, params=params)\n"
      ]
    },
    {
      "cell_type": "markdown",
      "metadata": {},
      "source": [
        "## Data Snapshot\n",
        "Check table sizes and preview fact data to validate the warehouse load.\n"
      ]
    },
    {
      "cell_type": "code",
      "execution_count": null,
      "metadata": {},
      "outputs": [],
      "source": [
        "table_counts_sql = \"\"\"\n",
        "SELECT 'dim_customer' AS table_name, COUNT(*) AS row_count FROM dim_customer\n",
        "UNION ALL\n",
        "SELECT 'dim_product', COUNT(*) FROM dim_product\n",
        "UNION ALL\n",
        "SELECT 'fact_sales', COUNT(*) FROM fact_sales\n",
        "UNION ALL\n",
        "SELECT 'stg_sales', COUNT(*) FROM stg_sales;\n",
        "\"\"\"\n",
        "table_counts = run_sql(table_counts_sql)\n",
        "display(table_counts)\n"
      ]
    },
    {
      "cell_type": "code",
      "execution_count": null,
      "metadata": {},
      "outputs": [],
      "source": [
        "sample_fact_sql = \"\"\"\n",
        "SELECT invoice_no, invoice_date, stock_code, customer_id, quantity, unit_price, revenue\n",
        "FROM fact_sales\n",
        "ORDER BY invoice_date\n",
        "LIMIT 5;\n",
        "\"\"\"\n",
        "sample_fact = run_sql(sample_fact_sql)\n",
        "display(sample_fact)\n"
      ]
    },
    {
      "cell_type": "markdown",
      "metadata": {},
      "source": [
        "## Monthly Revenue Trend\n",
        "Understand revenue trajectory, order volumes, and invoice values over time.\n"
      ]
    },
    {
      "cell_type": "code",
      "execution_count": null,
      "metadata": {},
      "outputs": [],
      "source": [
        "monthly_revenue_sql = \"\"\"\n",
        "SELECT strftime('%Y-%m', invoice_date) AS month,\n",
        "       ROUND(SUM(revenue), 2) AS monthly_revenue,\n",
        "       COUNT(DISTINCT invoice_no) AS invoices,\n",
        "       COUNT(*) AS order_lines,\n",
        "       ROUND(SUM(revenue) / NULLIF(COUNT(DISTINCT invoice_no), 0), 2) AS avg_invoice_value\n",
        "FROM fact_sales\n",
        "GROUP BY month\n",
        "ORDER BY month;\n",
        "\"\"\"\n",
        "monthly_revenue = run_sql(monthly_revenue_sql)\n",
        "display(monthly_revenue.tail())\n"
      ]
    },
    {
      "cell_type": "code",
      "execution_count": null,
      "metadata": {},
      "outputs": [],
      "source": [
        "fig, ax = plt.subplots(2, 1, figsize=(12, 8), sharex=True)\n",
        "ax[0].plot(pd.to_datetime(monthly_revenue['month']), monthly_revenue['monthly_revenue'], marker='o', color='#1f77b4')\n",
        "ax[0].set_title('Monthly Revenue')\n",
        "ax[0].set_ylabel('Revenue (GBP)')\n",
        "ax[0].grid(True, alpha=0.3)\n",
        "\n",
        "ax[1].bar(pd.to_datetime(monthly_revenue['month']), monthly_revenue['avg_invoice_value'], color='#ff7f0e')\n",
        "ax[1].set_title('Average Invoice Value')\n",
        "ax[1].set_ylabel('Revenue per Invoice (GBP)')\n",
        "ax[1].grid(True, axis='y', alpha=0.3)\n",
        "\n",
        "plt.xticks(rotation=45)\n",
        "plt.tight_layout()\n",
        "plt.show()\n"
      ]
    },
    {
      "cell_type": "markdown",
      "metadata": {},
      "source": [
        "> **Takeaway:** Revenue peaks during Q4 2010, confirming the holiday uplift. Average invoice values climb steadily throughout 2010, indicating larger order sizes.\n"
      ]
    },
    {
      "cell_type": "markdown",
      "metadata": {},
      "source": [
        "## Top Products\n",
        "Identify the SKUs generating the highest revenue and volume.\n"
      ]
    },
    {
      "cell_type": "code",
      "execution_count": null,
      "metadata": {},
      "outputs": [],
      "source": [
        "top_products_sql = \"\"\"\n",
        "SELECT p.stock_code,\n",
        "       p.description,\n",
        "       SUM(f.quantity) AS total_quantity,\n",
        "       ROUND(SUM(f.revenue), 2) AS total_revenue\n",
        "FROM fact_sales f\n",
        "JOIN dim_product p\n",
        "  ON f.stock_code = p.stock_code\n",
        "GROUP BY p.stock_code, p.description\n",
        "ORDER BY total_revenue DESC\n",
        "LIMIT 15;\n",
        "\"\"\"\n",
        "top_products = run_sql(top_products_sql)\n",
        "display(top_products)\n"
      ]
    },
    {
      "cell_type": "markdown",
      "metadata": {},
      "source": [
        "> **Observation:** Giftware and lighting SKUs dominate revenue. Normalise variant descriptions (e.g., `RETROSPOT` vs `RETRO SPOT`) to consolidate reporting.\n"
      ]
    },
    {
      "cell_type": "markdown",
      "metadata": {},
      "source": [
        "## Top Customers\n",
        "Highlight the most valuable customers and their regions.\n"
      ]
    },
    {
      "cell_type": "code",
      "execution_count": null,
      "metadata": {},
      "outputs": [],
      "source": [
        "top_customers_sql = \"\"\"\n",
        "SELECT f.customer_id,\n",
        "       c.country,\n",
        "       c.region,\n",
        "       COUNT(DISTINCT f.invoice_no) AS invoices,\n",
        "       ROUND(SUM(f.revenue), 2) AS total_revenue,\n",
        "       ROUND(AVG(f.revenue), 2) AS avg_line_revenue\n",
        "FROM fact_sales f\n",
        "JOIN dim_customer c\n",
        "  ON f.customer_id = c.customer_id\n",
        "GROUP BY f.customer_id, c.country, c.region\n",
        "ORDER BY total_revenue DESC\n",
        "LIMIT 15;\n",
        "\"\"\"\n",
        "top_customers = run_sql(top_customers_sql)\n",
        "display(top_customers)\n"
      ]
    },
    {
      "cell_type": "markdown",
      "metadata": {},
      "source": [
        "> **Observation:** A handful of wholesale customers in the UK and Netherlands contribute a large share of revenue. Focus retention efforts on these accounts.\n"
      ]
    },
    {
      "cell_type": "markdown",
      "metadata": {},
      "source": [
        "## Revenue by Region & Country\n",
        "Break down performance by geographic segment.\n"
      ]
    },
    {
      "cell_type": "code",
      "execution_count": null,
      "metadata": {},
      "outputs": [],
      "source": [
        "region_revenue_sql = \"\"\"\n",
        "SELECT c.region,\n",
        "       ROUND(SUM(f.revenue), 2) AS total_revenue,\n",
        "       COUNT(DISTINCT c.customer_id) AS customers,\n",
        "       ROUND(AVG(f.revenue), 2) AS avg_line_revenue,\n",
        "       ROUND(100.0 * SUM(f.revenue) / SUM(SUM(f.revenue)) OVER (), 2) AS revenue_share_pct\n",
        "FROM fact_sales f\n",
        "JOIN dim_customer c\n",
        "  ON f.customer_id = c.customer_id\n",
        "GROUP BY c.region\n",
        "ORDER BY total_revenue DESC;\n",
        "\"\"\"\n",
        "region_revenue = run_sql(region_revenue_sql)\n",
        "display(region_revenue)\n"
      ]
    },
    {
      "cell_type": "code",
      "execution_count": null,
      "metadata": {},
      "outputs": [],
      "source": [
        "fig, ax = plt.subplots(figsize=(8, 4))\n",
        "sns.barplot(data=region_revenue, x='region', y='total_revenue', palette='Blues_d', ax=ax)\n",
        "ax.set_title('Revenue by Region')\n",
        "ax.set_ylabel('Total Revenue (GBP)')\n",
        "ax.set_xlabel('Region')\n",
        "plt.tight_layout()\n",
        "plt.show()\n"
      ]
    },
    {
      "cell_type": "code",
      "execution_count": null,
      "metadata": {},
      "outputs": [],
      "source": [
        "country_revenue_sql = \"\"\"\n",
        "SELECT c.country,\n",
        "       COUNT(DISTINCT f.invoice_no) AS invoices,\n",
        "       ROUND(SUM(f.revenue), 2) AS total_revenue,\n",
        "       ROUND(SUM(f.revenue) / NULLIF(COUNT(DISTINCT f.invoice_no), 0), 2) AS avg_invoice_value\n",
        "FROM fact_sales f\n",
        "JOIN dim_customer c\n",
        "  ON f.customer_id = c.customer_id\n",
        "GROUP BY c.country\n",
        "HAVING COUNT(DISTINCT f.invoice_no) >= 20\n",
        "ORDER BY total_revenue DESC\n",
        "LIMIT 15;\n",
        "\"\"\"\n",
        "country_revenue = run_sql(country_revenue_sql)\n",
        "display(country_revenue)\n"
      ]
    },
    {
      "cell_type": "markdown",
      "metadata": {},
      "source": [
        "> **Takeaway:** The UK leads in total revenue, but export markets such as the Netherlands and Australia show higher basket sizes, suggesting wholesale strength abroad.\n"
      ]
    },
    {
      "cell_type": "markdown",
      "metadata": {},
      "source": [
        "## Invoice Basket Analysis\n",
        "Review high-value orders and revenue contribution by invoice size.\n"
      ]
    },
    {
      "cell_type": "code",
      "execution_count": null,
      "metadata": {},
      "outputs": [],
      "source": [
        "top_invoices_sql = \"\"\"\n",
        "SELECT invoice_no,\n",
        "       MIN(invoice_date) AS invoice_date,\n",
        "       COUNT(*) AS line_items,\n",
        "       ROUND(SUM(revenue), 2) AS total_revenue,\n",
        "       ROUND(SUM(quantity), 0) AS total_units\n",
        "FROM fact_sales\n",
        "GROUP BY invoice_no\n",
        "ORDER BY total_revenue DESC\n",
        "LIMIT 15;\n",
        "\"\"\"\n",
        "top_invoices = run_sql(top_invoices_sql)\n",
        "display(top_invoices)\n"
      ]
    },
    {
      "cell_type": "code",
      "execution_count": null,
      "metadata": {},
      "outputs": [],
      "source": [
        "basket_distribution_sql = \"\"\"\n",
        "WITH invoice_stats AS (\n",
        "    SELECT invoice_no,\n",
        "           SUM(revenue) AS total_revenue,\n",
        "           SUM(quantity) AS total_units\n",
        "    FROM fact_sales\n",
        "    GROUP BY invoice_no\n",
        ")\n",
        "SELECT\n",
        "    CASE\n",
        "        WHEN total_revenue < 100 THEN '< \u00a3100'\n",
        "        WHEN total_revenue < 250 THEN '\u00a3100-\u00a3249'\n",
        "        WHEN total_revenue < 500 THEN '\u00a3250-\u00a3499'\n",
        "        WHEN total_revenue < 1000 THEN '\u00a3500-\u00a3999'\n",
        "        ELSE '\u00a31K+'\n",
        "    END AS revenue_band,\n",
        "    COUNT(*) AS invoices,\n",
        "    ROUND(100.0 * COUNT(*) / SUM(COUNT(*)) OVER (), 2) AS share_pct\n",
        "FROM invoice_stats\n",
        "GROUP BY revenue_band\n",
        "ORDER BY invoices DESC;\n",
        "\"\"\"\n",
        "basket_distribution = run_sql(basket_distribution_sql)\n",
        "display(basket_distribution)\n"
      ]
    },
    {
      "cell_type": "markdown",
      "metadata": {},
      "source": [
        "> **Insight:** Large invoices (\u00a3500+) represent a small fraction of orders but drive a significant revenue share, warranting premium customer engagement.\n"
      ]
    },
    {
      "cell_type": "markdown",
      "metadata": {},
      "source": [
        "## Customer Breadth & Repeat Behaviour\n",
        "Measure how broadly customers purchase across the catalogue and their repeat tendencies.\n"
      ]
    },
    {
      "cell_type": "code",
      "execution_count": null,
      "metadata": {},
      "outputs": [],
      "source": [
        "product_breadth_sql = \"\"\"\n",
        "SELECT customer_id,\n",
        "       COUNT(DISTINCT stock_code) AS distinct_products,\n",
        "       COUNT(DISTINCT invoice_no) AS invoices,\n",
        "       ROUND(SUM(revenue), 2) AS total_revenue\n",
        "FROM fact_sales\n",
        "GROUP BY customer_id\n",
        "HAVING invoices >= 5\n",
        "ORDER BY distinct_products DESC\n",
        "LIMIT 15;\n",
        "\"\"\"\n",
        "product_breadth = run_sql(product_breadth_sql)\n",
        "display(product_breadth)\n"
      ]
    },
    {
      "cell_type": "code",
      "execution_count": null,
      "metadata": {},
      "outputs": [],
      "source": [
        "repeat_customers_sql = \"\"\"\n",
        "WITH customer_orders AS (\n",
        "    SELECT customer_id,\n",
        "           COUNT(DISTINCT invoice_no) AS invoices,\n",
        "           SUM(revenue) AS total_revenue\n",
        "    FROM fact_sales\n",
        "    GROUP BY customer_id\n",
        ")\n",
        "SELECT\n",
        "    SUM(CASE WHEN invoices = 1 THEN 1 ELSE 0 END) AS single_purchase_customers,\n",
        "    SUM(CASE WHEN invoices > 1 THEN 1 ELSE 0 END) AS repeat_customers,\n",
        "    ROUND(100.0 * SUM(CASE WHEN invoices > 1 THEN 1 ELSE 0 END) / COUNT(*), 2) AS repeat_customer_rate_pct,\n",
        "    ROUND(AVG(total_revenue), 2) AS avg_customer_revenue\n",
        "FROM customer_orders;\n",
        "\"\"\"\n",
        "repeat_customers = run_sql(repeat_customers_sql)\n",
        "display(repeat_customers)\n"
      ]
    },
    {
      "cell_type": "markdown",
      "metadata": {},
      "source": [
        "> **Observation:** Repeat buyers make up a majority of the customer base and yield higher lifetime revenue \u2014 retention programs should be prioritised.\n"
      ]
    },
    {
      "cell_type": "markdown",
      "metadata": {},
      "source": [
        "## Seasonal & Product Insights\n",
        "Investigate seasonal SKUs and category dynamics.\n"
      ]
    },
    {
      "cell_type": "code",
      "execution_count": null,
      "metadata": {},
      "outputs": [],
      "source": [
        "seasonal_products_sql = \"\"\"\n",
        "SELECT p.description,\n",
        "       SUM(f.quantity) AS total_units,\n",
        "       ROUND(SUM(f.revenue), 2) AS total_revenue\n",
        "FROM fact_sales f\n",
        "JOIN dim_product p\n",
        "  ON f.stock_code = p.stock_code\n",
        "WHERE UPPER(p.description) LIKE '%CHRISTMAS%'\n",
        "GROUP BY p.description\n",
        "ORDER BY total_units DESC\n",
        "LIMIT 10;\n",
        "\"\"\"\n",
        "seasonal_products = run_sql(seasonal_products_sql)\n",
        "display(seasonal_products)\n"
      ]
    },
    {
      "cell_type": "code",
      "execution_count": null,
      "metadata": {},
      "outputs": [],
      "source": [
        "monthly_category_sql = \"\"\"\n",
        "WITH monthly_product AS (\n",
        "    SELECT strftime('%Y-%m', invoice_date) AS month,\n",
        "           CASE\n",
        "               WHEN UPPER(p.description) LIKE '%LIGHT%' THEN 'Lighting'\n",
        "               WHEN UPPER(p.description) LIKE '%MUG%' THEN 'Mugs'\n",
        "               WHEN UPPER(p.description) LIKE '%BAG%' THEN 'Bags'\n",
        "               WHEN UPPER(p.description) LIKE '%CARD%' THEN 'Cards'\n",
        "               ELSE 'Other'\n",
        "           END AS category,\n",
        "           SUM(f.revenue) AS revenue\n",
        "    FROM fact_sales f\n",
        "    JOIN dim_product p\n",
        "      ON f.stock_code = p.stock_code\n",
        "    GROUP BY month, category\n",
        ")\n",
        "SELECT month,\n",
        "       category,\n",
        "       ROUND(revenue, 2) AS revenue\n",
        "FROM monthly_product\n",
        "WHERE month BETWEEN '2010-01' AND '2010-12'\n",
        "ORDER BY month, revenue DESC;\n",
        "\"\"\"\n",
        "monthly_category = run_sql(monthly_category_sql)\n",
        "display(monthly_category.head(15))\n"
      ]
    },
    {
      "cell_type": "markdown",
      "metadata": {},
      "source": [
        "> **Insight:** Holiday-themed inventory spikes sharply in Q4, especially Christmas decorations and lighting. Everyday categories like bags and mugs provide steady revenue across the year.\n"
      ]
    },
    {
      "cell_type": "markdown",
      "metadata": {},
      "source": [
        "## Cleanup\n",
        "Close the SQLite connection once analysis is complete.\n"
      ]
    },
    {
      "cell_type": "code",
      "execution_count": null,
      "metadata": {},
      "outputs": [],
      "source": [
        "conn.close()\n"
      ]
    }
  ],
  "metadata": {
    "kernelspec": {
      "display_name": "Python 3",
      "language": "python",
      "name": "python3"
    },
    "language_info": {
      "name": "python",
      "version": "3.9"
    }
  },
  "nbformat": 4,
  "nbformat_minor": 5
}